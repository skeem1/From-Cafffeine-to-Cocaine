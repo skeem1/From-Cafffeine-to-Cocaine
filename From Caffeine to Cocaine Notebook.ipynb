{
 "cells": [
  {
   "cell_type": "markdown",
   "metadata": {},
   "source": [
    "# From Caffeine to Cocaine?: Bolivian Coffee Farmers Switching to More Profitable Crops"
   ]
  },
  {
   "cell_type": "markdown",
   "metadata": {},
   "source": [
    "## Background: \n",
    "### I grew up in Bolivia, and I drink coffee religiously. I've heard anecdotally that coffee farmers are switching crops from coffee to Coca leaves since it is more profitable. Coca leaves are the main component to the highly addictive and illegal drug cocaine, which has several negative repercussions. \n",
    "\n",
    "## Impact: \n",
    "### The Centers for Disease Control and Prevention’s latest provisional data predicted 24,618 overdose deaths involving cocaine in 2021, a 23.5 percent increase compared to cocaine-involved deaths in 2020 (19,927 deaths). \n",
    "\n",
    "## Problem Statement: \n",
    "### In this project, I want to study the relationship between Coca Leaves and Coffee using public datasets available and prove whether there is a direct correlation between coffee farming decrease and increased coca leaves farming.\n",
    "\n",
    "More on coca here: https://en.wikipedia.org/wiki/Coca"
   ]
  },
  {
   "cell_type": "code",
   "execution_count": 2,
   "metadata": {
    "collapsed": true
   },
   "outputs": [],
   "source": [
    "# Not-exhaustive project checklist\n",
    "# Note: this is not a writing assignment, but you should still incorporate comments or headers throughout\n",
    "# -- This will help others who review your work, but will also help you keep track of what you're doing\n",
    "# -- Just think about what would help you understand a peer's project when you have to grade theirs later\n",
    "\n",
    "\n",
    "# 1) Dataset included\n",
    "# 1a) Dataset explained/documented when used\n",
    "# 2) Analysis performed\n",
    "# 2a) Analysis steps documented, explained briefly\n",
    "# 3) Visualizations/outputs\n",
    "# 4) Conclusion\n",
    "# ---Did you answer your questions?\n",
    "# ---Did you find anything else?\n",
    "# ---What problems did you run into?\n",
    "# ---Any suggestions for future research?\n",
    "\n",
    "# Critical checks before submission\n",
    "# - Does the noteboook run without error? (Kernel>restart & run all => no errors at all? No long periods of processing?)\n",
    "# - Do you have your dataset included here? You shouldn't be connecting to any external data\n",
    "# - - Even if external datasets work here, they WILL NOT work for peer-grading, and you may get a 0."
   ]
  },
  {
   "cell_type": "markdown",
   "metadata": {},
   "source": [
    "## 1. Datasets"
   ]
  },
  {
   "cell_type": "markdown",
   "metadata": {},
   "source": [
    "### We will bring in two separate datasets for this analysis, coffee and coca leaves. \n",
    "### For coca leaves data, I could not find a tabular format. However, I did find this article from the white house, so I manually created a csv file and uploaded into jupyter/vocareum: https://www.whitehouse.gov/ondcp/briefing-room/2022/07/14/ondcp-releases-data-on-coca-cultivation-and-production-in-the-andean-region/\n",
    "### For coffee data, I took the csv file from here and filtered by Bolivia: https://ourworldindata.org/grapher/coffee-bean-production"
   ]
  },
  {
   "cell_type": "markdown",
   "metadata": {},
   "source": [
    "#### Let's take a look at the coffee data:"
   ]
  },
  {
   "cell_type": "code",
   "execution_count": 3,
   "metadata": {},
   "outputs": [
    {
     "data": {
      "text/plain": [
       "Index(['Entity', 'Year',\n",
       "       'Coffee, green | 00000656 || Production | 005510 || tonnes'],\n",
       "      dtype='object')"
      ]
     },
     "execution_count": 3,
     "metadata": {},
     "output_type": "execute_result"
    }
   ],
   "source": [
    "import pandas as pd\n",
    "coffee = pd.read_excel('bolivia-coffee.xlsx')\n",
    "coffee.columns"
   ]
  },
  {
   "cell_type": "code",
   "execution_count": 4,
   "metadata": {},
   "outputs": [
    {
     "data": {
      "text/html": [
       "<div>\n",
       "<style scoped>\n",
       "    .dataframe tbody tr th:only-of-type {\n",
       "        vertical-align: middle;\n",
       "    }\n",
       "\n",
       "    .dataframe tbody tr th {\n",
       "        vertical-align: top;\n",
       "    }\n",
       "\n",
       "    .dataframe thead th {\n",
       "        text-align: right;\n",
       "    }\n",
       "</style>\n",
       "<table border=\"1\" class=\"dataframe\">\n",
       "  <thead>\n",
       "    <tr style=\"text-align: right;\">\n",
       "      <th></th>\n",
       "      <th>Entity</th>\n",
       "      <th>Year</th>\n",
       "      <th>coffee production in tons</th>\n",
       "    </tr>\n",
       "  </thead>\n",
       "  <tbody>\n",
       "    <tr>\n",
       "      <th>0</th>\n",
       "      <td>Bolivia</td>\n",
       "      <td>1961</td>\n",
       "      <td>4400.00</td>\n",
       "    </tr>\n",
       "    <tr>\n",
       "      <th>1</th>\n",
       "      <td>Bolivia</td>\n",
       "      <td>1962</td>\n",
       "      <td>4400.00</td>\n",
       "    </tr>\n",
       "    <tr>\n",
       "      <th>2</th>\n",
       "      <td>Bolivia</td>\n",
       "      <td>1963</td>\n",
       "      <td>4400.00</td>\n",
       "    </tr>\n",
       "    <tr>\n",
       "      <th>3</th>\n",
       "      <td>Bolivia</td>\n",
       "      <td>1964</td>\n",
       "      <td>7400.00</td>\n",
       "    </tr>\n",
       "    <tr>\n",
       "      <th>4</th>\n",
       "      <td>Bolivia</td>\n",
       "      <td>1965</td>\n",
       "      <td>4700.00</td>\n",
       "    </tr>\n",
       "    <tr>\n",
       "      <th>...</th>\n",
       "      <td>...</td>\n",
       "      <td>...</td>\n",
       "      <td>...</td>\n",
       "    </tr>\n",
       "    <tr>\n",
       "      <th>56</th>\n",
       "      <td>Bolivia</td>\n",
       "      <td>2017</td>\n",
       "      <td>21181.00</td>\n",
       "    </tr>\n",
       "    <tr>\n",
       "      <th>57</th>\n",
       "      <td>Bolivia</td>\n",
       "      <td>2018</td>\n",
       "      <td>22120.99</td>\n",
       "    </tr>\n",
       "    <tr>\n",
       "      <th>58</th>\n",
       "      <td>Bolivia</td>\n",
       "      <td>2019</td>\n",
       "      <td>24841.00</td>\n",
       "    </tr>\n",
       "    <tr>\n",
       "      <th>59</th>\n",
       "      <td>Bolivia</td>\n",
       "      <td>2020</td>\n",
       "      <td>23401.00</td>\n",
       "    </tr>\n",
       "    <tr>\n",
       "      <th>60</th>\n",
       "      <td>Bolivia</td>\n",
       "      <td>2021</td>\n",
       "      <td>23451.98</td>\n",
       "    </tr>\n",
       "  </tbody>\n",
       "</table>\n",
       "<p>61 rows × 3 columns</p>\n",
       "</div>"
      ],
      "text/plain": [
       "     Entity  Year  coffee production in tons\n",
       "0   Bolivia  1961                    4400.00\n",
       "1   Bolivia  1962                    4400.00\n",
       "2   Bolivia  1963                    4400.00\n",
       "3   Bolivia  1964                    7400.00\n",
       "4   Bolivia  1965                    4700.00\n",
       "..      ...   ...                        ...\n",
       "56  Bolivia  2017                   21181.00\n",
       "57  Bolivia  2018                   22120.99\n",
       "58  Bolivia  2019                   24841.00\n",
       "59  Bolivia  2020                   23401.00\n",
       "60  Bolivia  2021                   23451.98\n",
       "\n",
       "[61 rows x 3 columns]"
      ]
     },
     "execution_count": 4,
     "metadata": {},
     "output_type": "execute_result"
    }
   ],
   "source": [
    "#we can see that the data ranges from 1961 - 2021 for the coffee data\n",
    "coffee = coffee.rename(columns={'Coffee, green | 00000656 || Production | 005510 || tonnes':'coffee production in tons'},)\n",
    "coffee"
   ]
  },
  {
   "cell_type": "code",
   "execution_count": 5,
   "metadata": {},
   "outputs": [
    {
     "data": {
      "text/plain": [
       "[<matplotlib.lines.Line2D at 0x7f1ca457f850>]"
      ]
     },
     "execution_count": 5,
     "metadata": {},
     "output_type": "execute_result"
    },
    {
     "data": {
      "image/png": "[encoded data removed]",
      "text/plain": [
       "<Figure size 432x288 with 1 Axes>"
      ]
     },
     "metadata": {
      "needs_background": "light"
     },
     "output_type": "display_data"
    }
   ],
   "source": [
    "#simple graph shows us that there has been an upward trend but have had some downward crahses, note 1990s and 2012.\n",
    "import seaborn as sns\n",
    "import matplotlib.pyplot as plt\n",
    "plt.plot(coffee['Year'],coffee['coffee production in tons'])"
   ]
  },
  {
   "cell_type": "markdown",
   "metadata": {},
   "source": [
    "#### Let's now take a look at the coca data"
   ]
  },
  {
   "cell_type": "code",
   "execution_count": 6,
   "metadata": {},
   "outputs": [
    {
     "data": {
      "text/plain": [
       "Index(['Year', 'Bolivian-Coca-Cultivation-Hectares',\n",
       "       'Bolivian-Coca-Production-Potential-Metric-Tons'],\n",
       "      dtype='object')"
      ]
     },
     "execution_count": 6,
     "metadata": {},
     "output_type": "execute_result"
    }
   ],
   "source": [
    "coca = pd.read_csv('Bolivia-coca.csv')\n",
    "coca.columns"
   ]
  },
  {
   "cell_type": "code",
   "execution_count": 7,
   "metadata": {},
   "outputs": [
    {
     "data": {
      "text/html": [
       "<div>\n",
       "<style scoped>\n",
       "    .dataframe tbody tr th:only-of-type {\n",
       "        vertical-align: middle;\n",
       "    }\n",
       "\n",
       "    .dataframe tbody tr th {\n",
       "        vertical-align: top;\n",
       "    }\n",
       "\n",
       "    .dataframe thead th {\n",
       "        text-align: right;\n",
       "    }\n",
       "</style>\n",
       "<table border=\"1\" class=\"dataframe\">\n",
       "  <thead>\n",
       "    <tr style=\"text-align: right;\">\n",
       "      <th></th>\n",
       "      <th>Year</th>\n",
       "      <th>Bolivian-Coca-Cultivation-Hectares</th>\n",
       "      <th>Bolivian-Coca-Production-Potential-Metric-Tons</th>\n",
       "    </tr>\n",
       "  </thead>\n",
       "  <tbody>\n",
       "    <tr>\n",
       "      <th>0</th>\n",
       "      <td>2011</td>\n",
       "      <td>25500.0</td>\n",
       "      <td>213.0</td>\n",
       "    </tr>\n",
       "    <tr>\n",
       "      <th>1</th>\n",
       "      <td>2012</td>\n",
       "      <td>25000.0</td>\n",
       "      <td>174.0</td>\n",
       "    </tr>\n",
       "    <tr>\n",
       "      <th>2</th>\n",
       "      <td>2013</td>\n",
       "      <td>27000.0</td>\n",
       "      <td>188.0</td>\n",
       "    </tr>\n",
       "    <tr>\n",
       "      <th>3</th>\n",
       "      <td>2014</td>\n",
       "      <td>35000.0</td>\n",
       "      <td>236.0</td>\n",
       "    </tr>\n",
       "    <tr>\n",
       "      <th>4</th>\n",
       "      <td>2015</td>\n",
       "      <td>36500.0</td>\n",
       "      <td>268.0</td>\n",
       "    </tr>\n",
       "    <tr>\n",
       "      <th>5</th>\n",
       "      <td>2016</td>\n",
       "      <td>37500.0</td>\n",
       "      <td>284.0</td>\n",
       "    </tr>\n",
       "    <tr>\n",
       "      <th>6</th>\n",
       "      <td>2017</td>\n",
       "      <td>31000.0</td>\n",
       "      <td>246.0</td>\n",
       "    </tr>\n",
       "    <tr>\n",
       "      <th>7</th>\n",
       "      <td>2018</td>\n",
       "      <td>32900.0</td>\n",
       "      <td>251.0</td>\n",
       "    </tr>\n",
       "    <tr>\n",
       "      <th>8</th>\n",
       "      <td>2019</td>\n",
       "      <td>42180.0</td>\n",
       "      <td>301.0</td>\n",
       "    </tr>\n",
       "    <tr>\n",
       "      <th>9</th>\n",
       "      <td>2020</td>\n",
       "      <td>39400.0</td>\n",
       "      <td>312.0</td>\n",
       "    </tr>\n",
       "    <tr>\n",
       "      <th>10</th>\n",
       "      <td>2021</td>\n",
       "      <td>39700.0</td>\n",
       "      <td>317.0</td>\n",
       "    </tr>\n",
       "  </tbody>\n",
       "</table>\n",
       "</div>"
      ],
      "text/plain": [
       "    Year  Bolivian-Coca-Cultivation-Hectares  \\\n",
       "0   2011                             25500.0   \n",
       "1   2012                             25000.0   \n",
       "2   2013                             27000.0   \n",
       "3   2014                             35000.0   \n",
       "4   2015                             36500.0   \n",
       "5   2016                             37500.0   \n",
       "6   2017                             31000.0   \n",
       "7   2018                             32900.0   \n",
       "8   2019                             42180.0   \n",
       "9   2020                             39400.0   \n",
       "10  2021                             39700.0   \n",
       "\n",
       "    Bolivian-Coca-Production-Potential-Metric-Tons  \n",
       "0                                            213.0  \n",
       "1                                            174.0  \n",
       "2                                            188.0  \n",
       "3                                            236.0  \n",
       "4                                            268.0  \n",
       "5                                            284.0  \n",
       "6                                            246.0  \n",
       "7                                            251.0  \n",
       "8                                            301.0  \n",
       "9                                            312.0  \n",
       "10                                           317.0  "
      ]
     },
     "execution_count": 7,
     "metadata": {},
     "output_type": "execute_result"
    }
   ],
   "source": [
    "#there are two main columns besides the year. Note that year only goes from 2011 - 2021. \n",
    "#The two relevant columns are: Bolivian-Coca-Cultivation-Hectares and Bolivian-Coca-Production-Potntial-Metric-Tons\n",
    "coca"
   ]
  },
  {
   "cell_type": "code",
   "execution_count": 8,
   "metadata": {},
   "outputs": [
    {
     "data": {
      "text/plain": [
       "[<matplotlib.lines.Line2D at 0x7f1ca20951c0>]"
      ]
     },
     "execution_count": 8,
     "metadata": {},
     "output_type": "execute_result"
    },
    {
     "data": {
      "image/png": "[encoded data removed]",
      "text/plain": [
       "<Figure size 432x288 with 1 Axes>"
      ]
     },
     "metadata": {
      "needs_background": "light"
     },
     "output_type": "display_data"
    }
   ],
   "source": [
    "#let's graph this to see the overall trend. This has been historically trending upwards!\n",
    "import seaborn as sns\n",
    "import matplotlib.pyplot as plt\n",
    "\n",
    "#plt.plot(coca['Year'],coca['Bolivian-Coca-Cultivation-Hectares'])\n",
    "plt.plot(coca['Year'],coca['Bolivian-Coca-Production-Potential-Metric-Tons'])"
   ]
  },
  {
   "cell_type": "code",
   "execution_count": 9,
   "metadata": {},
   "outputs": [
    {
     "data": {
      "text/plain": [
       "Year                                                int64\n",
       "Bolivian-Coca-Cultivation-Hectares                float64\n",
       "Bolivian-Coca-Production-Potential-Metric-Tons    float64\n",
       "Entity                                             object\n",
       "coffee production in tons                         float64\n",
       "dtype: object"
      ]
     },
     "execution_count": 9,
     "metadata": {},
     "output_type": "execute_result"
    }
   ],
   "source": [
    "#I am now combining both datasets, and note that uncommon dates are dropped, so our new range is 2011- 2021\n",
    "combined = pd.merge(coca, coffee)\n",
    "combined.dtypes\n",
    "#need to change Bolivian-Coca-Cultivation-Hectares from string object to int"
   ]
  },
  {
   "cell_type": "code",
   "execution_count": 10,
   "metadata": {},
   "outputs": [
    {
     "data": {
      "text/html": [
       "<div>\n",
       "<style scoped>\n",
       "    .dataframe tbody tr th:only-of-type {\n",
       "        vertical-align: middle;\n",
       "    }\n",
       "\n",
       "    .dataframe tbody tr th {\n",
       "        vertical-align: top;\n",
       "    }\n",
       "\n",
       "    .dataframe thead th {\n",
       "        text-align: right;\n",
       "    }\n",
       "</style>\n",
       "<table border=\"1\" class=\"dataframe\">\n",
       "  <thead>\n",
       "    <tr style=\"text-align: right;\">\n",
       "      <th></th>\n",
       "      <th>Year</th>\n",
       "      <th>Bolivian-Coca-Cultivation-Hectares</th>\n",
       "      <th>Bolivian-Coca-Production-Potential-Metric-Tons</th>\n",
       "      <th>Entity</th>\n",
       "      <th>coffee production in tons</th>\n",
       "    </tr>\n",
       "  </thead>\n",
       "  <tbody>\n",
       "    <tr>\n",
       "      <th>0</th>\n",
       "      <td>2011</td>\n",
       "      <td>25500.0</td>\n",
       "      <td>213.0</td>\n",
       "      <td>Bolivia</td>\n",
       "      <td>27596.40</td>\n",
       "    </tr>\n",
       "    <tr>\n",
       "      <th>1</th>\n",
       "      <td>2012</td>\n",
       "      <td>25000.0</td>\n",
       "      <td>174.0</td>\n",
       "      <td>Bolivia</td>\n",
       "      <td>28136.86</td>\n",
       "    </tr>\n",
       "    <tr>\n",
       "      <th>2</th>\n",
       "      <td>2013</td>\n",
       "      <td>27000.0</td>\n",
       "      <td>188.0</td>\n",
       "      <td>Bolivia</td>\n",
       "      <td>29455.13</td>\n",
       "    </tr>\n",
       "    <tr>\n",
       "      <th>3</th>\n",
       "      <td>2014</td>\n",
       "      <td>35000.0</td>\n",
       "      <td>236.0</td>\n",
       "      <td>Bolivia</td>\n",
       "      <td>20496.00</td>\n",
       "    </tr>\n",
       "    <tr>\n",
       "      <th>4</th>\n",
       "      <td>2015</td>\n",
       "      <td>36500.0</td>\n",
       "      <td>268.0</td>\n",
       "      <td>Bolivia</td>\n",
       "      <td>20954.00</td>\n",
       "    </tr>\n",
       "    <tr>\n",
       "      <th>5</th>\n",
       "      <td>2016</td>\n",
       "      <td>37500.0</td>\n",
       "      <td>284.0</td>\n",
       "      <td>Bolivia</td>\n",
       "      <td>21427.00</td>\n",
       "    </tr>\n",
       "    <tr>\n",
       "      <th>6</th>\n",
       "      <td>2017</td>\n",
       "      <td>31000.0</td>\n",
       "      <td>246.0</td>\n",
       "      <td>Bolivia</td>\n",
       "      <td>21181.00</td>\n",
       "    </tr>\n",
       "    <tr>\n",
       "      <th>7</th>\n",
       "      <td>2018</td>\n",
       "      <td>32900.0</td>\n",
       "      <td>251.0</td>\n",
       "      <td>Bolivia</td>\n",
       "      <td>22120.99</td>\n",
       "    </tr>\n",
       "    <tr>\n",
       "      <th>8</th>\n",
       "      <td>2019</td>\n",
       "      <td>42180.0</td>\n",
       "      <td>301.0</td>\n",
       "      <td>Bolivia</td>\n",
       "      <td>24841.00</td>\n",
       "    </tr>\n",
       "    <tr>\n",
       "      <th>9</th>\n",
       "      <td>2020</td>\n",
       "      <td>39400.0</td>\n",
       "      <td>312.0</td>\n",
       "      <td>Bolivia</td>\n",
       "      <td>23401.00</td>\n",
       "    </tr>\n",
       "    <tr>\n",
       "      <th>10</th>\n",
       "      <td>2021</td>\n",
       "      <td>39700.0</td>\n",
       "      <td>317.0</td>\n",
       "      <td>Bolivia</td>\n",
       "      <td>23451.98</td>\n",
       "    </tr>\n",
       "  </tbody>\n",
       "</table>\n",
       "</div>"
      ],
      "text/plain": [
       "    Year  Bolivian-Coca-Cultivation-Hectares  \\\n",
       "0   2011                             25500.0   \n",
       "1   2012                             25000.0   \n",
       "2   2013                             27000.0   \n",
       "3   2014                             35000.0   \n",
       "4   2015                             36500.0   \n",
       "5   2016                             37500.0   \n",
       "6   2017                             31000.0   \n",
       "7   2018                             32900.0   \n",
       "8   2019                             42180.0   \n",
       "9   2020                             39400.0   \n",
       "10  2021                             39700.0   \n",
       "\n",
       "    Bolivian-Coca-Production-Potential-Metric-Tons   Entity  \\\n",
       "0                                            213.0  Bolivia   \n",
       "1                                            174.0  Bolivia   \n",
       "2                                            188.0  Bolivia   \n",
       "3                                            236.0  Bolivia   \n",
       "4                                            268.0  Bolivia   \n",
       "5                                            284.0  Bolivia   \n",
       "6                                            246.0  Bolivia   \n",
       "7                                            251.0  Bolivia   \n",
       "8                                            301.0  Bolivia   \n",
       "9                                            312.0  Bolivia   \n",
       "10                                           317.0  Bolivia   \n",
       "\n",
       "    coffee production in tons  \n",
       "0                    27596.40  \n",
       "1                    28136.86  \n",
       "2                    29455.13  \n",
       "3                    20496.00  \n",
       "4                    20954.00  \n",
       "5                    21427.00  \n",
       "6                    21181.00  \n",
       "7                    22120.99  \n",
       "8                    24841.00  \n",
       "9                    23401.00  \n",
       "10                   23451.98  "
      ]
     },
     "execution_count": 10,
     "metadata": {},
     "output_type": "execute_result"
    }
   ],
   "source": [
    "combined"
   ]
  },
  {
   "cell_type": "code",
   "execution_count": 11,
   "metadata": {
    "collapsed": true
   },
   "outputs": [],
   "source": [
    "#convert object to float\n",
    "combined['Bolivian-Coca-Cultivation-Hectares'] = combined['Bolivian-Coca-Cultivation-Hectares'].astype(float)"
   ]
  },
  {
   "cell_type": "code",
   "execution_count": 12,
   "metadata": {},
   "outputs": [
    {
     "data": {
      "text/html": [
       "<div>\n",
       "<style scoped>\n",
       "    .dataframe tbody tr th:only-of-type {\n",
       "        vertical-align: middle;\n",
       "    }\n",
       "\n",
       "    .dataframe tbody tr th {\n",
       "        vertical-align: top;\n",
       "    }\n",
       "\n",
       "    .dataframe thead th {\n",
       "        text-align: right;\n",
       "    }\n",
       "</style>\n",
       "<table border=\"1\" class=\"dataframe\">\n",
       "  <thead>\n",
       "    <tr style=\"text-align: right;\">\n",
       "      <th></th>\n",
       "      <th>Year</th>\n",
       "      <th>Bolivian-Coca-Cultivation-Hectares</th>\n",
       "      <th>Bolivian-Coca-Production-Potential-Metric-Tons</th>\n",
       "      <th>coffee production in tons</th>\n",
       "    </tr>\n",
       "  </thead>\n",
       "  <tbody>\n",
       "    <tr>\n",
       "      <th>0</th>\n",
       "      <td>2011</td>\n",
       "      <td>25500.0</td>\n",
       "      <td>213.0</td>\n",
       "      <td>27596.40</td>\n",
       "    </tr>\n",
       "    <tr>\n",
       "      <th>1</th>\n",
       "      <td>2012</td>\n",
       "      <td>25000.0</td>\n",
       "      <td>174.0</td>\n",
       "      <td>28136.86</td>\n",
       "    </tr>\n",
       "    <tr>\n",
       "      <th>2</th>\n",
       "      <td>2013</td>\n",
       "      <td>27000.0</td>\n",
       "      <td>188.0</td>\n",
       "      <td>29455.13</td>\n",
       "    </tr>\n",
       "    <tr>\n",
       "      <th>3</th>\n",
       "      <td>2014</td>\n",
       "      <td>35000.0</td>\n",
       "      <td>236.0</td>\n",
       "      <td>20496.00</td>\n",
       "    </tr>\n",
       "    <tr>\n",
       "      <th>4</th>\n",
       "      <td>2015</td>\n",
       "      <td>36500.0</td>\n",
       "      <td>268.0</td>\n",
       "      <td>20954.00</td>\n",
       "    </tr>\n",
       "    <tr>\n",
       "      <th>5</th>\n",
       "      <td>2016</td>\n",
       "      <td>37500.0</td>\n",
       "      <td>284.0</td>\n",
       "      <td>21427.00</td>\n",
       "    </tr>\n",
       "    <tr>\n",
       "      <th>6</th>\n",
       "      <td>2017</td>\n",
       "      <td>31000.0</td>\n",
       "      <td>246.0</td>\n",
       "      <td>21181.00</td>\n",
       "    </tr>\n",
       "    <tr>\n",
       "      <th>7</th>\n",
       "      <td>2018</td>\n",
       "      <td>32900.0</td>\n",
       "      <td>251.0</td>\n",
       "      <td>22120.99</td>\n",
       "    </tr>\n",
       "    <tr>\n",
       "      <th>8</th>\n",
       "      <td>2019</td>\n",
       "      <td>42180.0</td>\n",
       "      <td>301.0</td>\n",
       "      <td>24841.00</td>\n",
       "    </tr>\n",
       "    <tr>\n",
       "      <th>9</th>\n",
       "      <td>2020</td>\n",
       "      <td>39400.0</td>\n",
       "      <td>312.0</td>\n",
       "      <td>23401.00</td>\n",
       "    </tr>\n",
       "    <tr>\n",
       "      <th>10</th>\n",
       "      <td>2021</td>\n",
       "      <td>39700.0</td>\n",
       "      <td>317.0</td>\n",
       "      <td>23451.98</td>\n",
       "    </tr>\n",
       "  </tbody>\n",
       "</table>\n",
       "</div>"
      ],
      "text/plain": [
       "    Year  Bolivian-Coca-Cultivation-Hectares  \\\n",
       "0   2011                             25500.0   \n",
       "1   2012                             25000.0   \n",
       "2   2013                             27000.0   \n",
       "3   2014                             35000.0   \n",
       "4   2015                             36500.0   \n",
       "5   2016                             37500.0   \n",
       "6   2017                             31000.0   \n",
       "7   2018                             32900.0   \n",
       "8   2019                             42180.0   \n",
       "9   2020                             39400.0   \n",
       "10  2021                             39700.0   \n",
       "\n",
       "    Bolivian-Coca-Production-Potential-Metric-Tons  coffee production in tons  \n",
       "0                                            213.0                   27596.40  \n",
       "1                                            174.0                   28136.86  \n",
       "2                                            188.0                   29455.13  \n",
       "3                                            236.0                   20496.00  \n",
       "4                                            268.0                   20954.00  \n",
       "5                                            284.0                   21427.00  \n",
       "6                                            246.0                   21181.00  \n",
       "7                                            251.0                   22120.99  \n",
       "8                                            301.0                   24841.00  \n",
       "9                                            312.0                   23401.00  \n",
       "10                                           317.0                   23451.98  "
      ]
     },
     "execution_count": 12,
     "metadata": {},
     "output_type": "execute_result"
    }
   ],
   "source": [
    "#dropping Entity since it is not relevant \n",
    "combined = combined.drop('Entity', axis=1)\n",
    "combined"
   ]
  },
  {
   "cell_type": "markdown",
   "metadata": {},
   "source": [
    "## 2. Analysis Performed"
   ]
  },
  {
   "cell_type": "markdown",
   "metadata": {},
   "source": [
    "### We will start our analysis with a correlation matrix, to see how the features are reated.\n",
    "### We will then follow by running a multiple linear regression where Y = Coffee Production and the rest are X variables"
   ]
  },
  {
   "cell_type": "code",
   "execution_count": 13,
   "metadata": {},
   "outputs": [
    {
     "data": {
      "text/html": [
       "<div>\n",
       "<style scoped>\n",
       "    .dataframe tbody tr th:only-of-type {\n",
       "        vertical-align: middle;\n",
       "    }\n",
       "\n",
       "    .dataframe tbody tr th {\n",
       "        vertical-align: top;\n",
       "    }\n",
       "\n",
       "    .dataframe thead th {\n",
       "        text-align: right;\n",
       "    }\n",
       "</style>\n",
       "<table border=\"1\" class=\"dataframe\">\n",
       "  <thead>\n",
       "    <tr style=\"text-align: right;\">\n",
       "      <th></th>\n",
       "      <th>Year</th>\n",
       "      <th>Bolivian-Coca-Cultivation-Hectares</th>\n",
       "      <th>Bolivian-Coca-Production-Potential-Metric-Tons</th>\n",
       "      <th>coffee production in tons</th>\n",
       "    </tr>\n",
       "  </thead>\n",
       "  <tbody>\n",
       "    <tr>\n",
       "      <th>Year</th>\n",
       "      <td>1.000000</td>\n",
       "      <td>0.826304</td>\n",
       "      <td>0.883130</td>\n",
       "      <td>-0.475256</td>\n",
       "    </tr>\n",
       "    <tr>\n",
       "      <th>Bolivian-Coca-Cultivation-Hectares</th>\n",
       "      <td>0.826304</td>\n",
       "      <td>1.000000</td>\n",
       "      <td>0.941105</td>\n",
       "      <td>-0.605215</td>\n",
       "    </tr>\n",
       "    <tr>\n",
       "      <th>Bolivian-Coca-Production-Potential-Metric-Tons</th>\n",
       "      <td>0.883130</td>\n",
       "      <td>0.941105</td>\n",
       "      <td>1.000000</td>\n",
       "      <td>-0.583394</td>\n",
       "    </tr>\n",
       "    <tr>\n",
       "      <th>coffee production in tons</th>\n",
       "      <td>-0.475256</td>\n",
       "      <td>-0.605215</td>\n",
       "      <td>-0.583394</td>\n",
       "      <td>1.000000</td>\n",
       "    </tr>\n",
       "  </tbody>\n",
       "</table>\n",
       "</div>"
      ],
      "text/plain": [
       "                                                    Year  \\\n",
       "Year                                            1.000000   \n",
       "Bolivian-Coca-Cultivation-Hectares              0.826304   \n",
       "Bolivian-Coca-Production-Potential-Metric-Tons  0.883130   \n",
       "coffee production in tons                      -0.475256   \n",
       "\n",
       "                                                Bolivian-Coca-Cultivation-Hectares  \\\n",
       "Year                                                                      0.826304   \n",
       "Bolivian-Coca-Cultivation-Hectares                                        1.000000   \n",
       "Bolivian-Coca-Production-Potential-Metric-Tons                            0.941105   \n",
       "coffee production in tons                                                -0.605215   \n",
       "\n",
       "                                                Bolivian-Coca-Production-Potential-Metric-Tons  \\\n",
       "Year                                                                                  0.883130   \n",
       "Bolivian-Coca-Cultivation-Hectares                                                    0.941105   \n",
       "Bolivian-Coca-Production-Potential-Metric-Tons                                        1.000000   \n",
       "coffee production in tons                                                            -0.583394   \n",
       "\n",
       "                                                coffee production in tons  \n",
       "Year                                                            -0.475256  \n",
       "Bolivian-Coca-Cultivation-Hectares                              -0.605215  \n",
       "Bolivian-Coca-Production-Potential-Metric-Tons                  -0.583394  \n",
       "coffee production in tons                                        1.000000  "
      ]
     },
     "execution_count": 13,
     "metadata": {},
     "output_type": "execute_result"
    }
   ],
   "source": [
    "corr_matrix = combined.corr()\n",
    "corr_matrix"
   ]
  },
  {
   "cell_type": "code",
   "execution_count": 14,
   "metadata": {},
   "outputs": [
    {
     "data": {
      "image/png": "[encoded data removed]",
      "text/plain": [
       "<Figure size 432x288 with 2 Axes>"
      ]
     },
     "metadata": {
      "needs_background": "light"
     },
     "output_type": "display_data"
    }
   ],
   "source": [
    "#correlation matrix shows us that Bolivian-Coca-Cultivation-Hectares and Bolivian-Coca-Production-Potential-Metric-Tons has a strong relationship\n",
    "\n",
    "sns.heatmap(corr_matrix, annot=True)\n",
    "plt.show()\n"
   ]
  },
  {
   "cell_type": "markdown",
   "metadata": {},
   "source": [
    "## 3. Visualizations/outputs"
   ]
  },
  {
   "cell_type": "markdown",
   "metadata": {},
   "source": [
    "### For visualizations, please look in sections 2 and 1. As for output, we will predict the coffee production value for the year 2022\n"
   ]
  },
  {
   "cell_type": "code",
   "execution_count": 17,
   "metadata": {},
   "outputs": [
    {
     "name": "stdout",
     "output_type": "stream",
     "text": [
      "Coefficients: [163.61109483  -0.25614883 -18.25726401]\n",
      "Intercept: -292639.55608661147\n",
      "Predicted y: [21655.07869837]\n"
     ]
    },
    {
     "name": "stderr",
     "output_type": "stream",
     "text": [
      "/usr/local/lib/python3.8/site-packages/sklearn/base.py:450: UserWarning: X does not have valid feature names, but LinearRegression was fitted with feature names\n",
      "  warnings.warn(\n"
     ]
    }
   ],
   "source": [
    "#let's linear regression \n",
    "\n",
    "\n",
    "import numpy as np\n",
    "import pandas as pd\n",
    "from sklearn.linear_model import LinearRegression\n",
    "\n",
    "# split the data into independent and dependent variables\n",
    "X = combined.loc[:, combined.columns!='coffee production in tons']\n",
    "y = combined['coffee production in tons']\n",
    "\n",
    "# create a model and fit the data\n",
    "model = LinearRegression().fit(X, y)\n",
    "\n",
    "# get the coefficients\n",
    "coefficients = model.coef_\n",
    "intercept = model.intercept_\n",
    "\n",
    "# make predictions on new data\n",
    "new_X = np.array([[2022, 41000 , 330]])\n",
    "predicted_y = model.predict(new_X)\n",
    "\n",
    "# print the results\n",
    "print(\"Coefficients:\", coefficients)\n",
    "print(\"Intercept:\", intercept)\n",
    "print(\"Predicted y:\", predicted_y)\n"
   ]
  },
  {
   "cell_type": "markdown",
   "metadata": {},
   "source": [
    "### The Predicted value for Coffee Production is 21655.08 Tons, for the year 2022, with the parameters 41000 for Bolivian Coca Cultivation Hectares , 330 for Bolivian Coca Potential Metric Tons"
   ]
  },
  {
   "cell_type": "markdown",
   "metadata": {},
   "source": [
    "## 4. Conclusion"
   ]
  },
  {
   "cell_type": "markdown",
   "metadata": {
    "collapsed": true
   },
   "source": [
    "### Based on our analysis, we can conclude  that the decrease in coffee production is directly related to the increase coca leaves production. In our multiple linear regression, we predicted a lower value of coffee production for the year 2022. \n",
    "\n",
    "### For further research, I'd like to delve deeper into other features that could have a strong relationship with the decreased coffee production such as climate change, temperature, land fertility, employment rate, economy, and more macroeconomic factors pertinent to the country of Bolivia. I also recognize that the Years in the dataset used is limited, and would like to try to find data that goes further than 2011. "
   ]
  },
  {
   "cell_type": "code",
   "execution_count": null,
   "metadata": {
    "collapsed": true
   },
   "outputs": [],
   "source": []
  }
 ],
 "metadata": {
  "kernelspec": {
   "display_name": "Python 3.8",
   "language": "python",
   "name": "python38"
  },
  "language_info": {
   "codemirror_mode": {
    "name": "ipython",
    "version": 3
   },
   "file_extension": ".py",
   "mimetype": "text/x-python",
   "name": "python",
   "nbconvert_exporter": "python",
   "pygments_lexer": "ipython3",
   "version": "3.8.7"
  }
 },
 "nbformat": 4,
 "nbformat_minor": 2
}
